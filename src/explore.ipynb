{
    "cells": [
        {
            "cell_type": "markdown",
            "metadata": {},
            "source": [
                "# Explore here"
            ]
        },
        {
            "cell_type": "code",
            "execution_count": 1,
            "metadata": {},
            "outputs": [],
            "source": [
                "import pandas as pd"
            ]
        },
        {
            "cell_type": "code",
            "execution_count": 2,
            "metadata": {},
            "outputs": [
                {
                    "data": {
                        "text/html": [
                            "<div>\n",
                            "<style scoped>\n",
                            "    .dataframe tbody tr th:only-of-type {\n",
                            "        vertical-align: middle;\n",
                            "    }\n",
                            "\n",
                            "    .dataframe tbody tr th {\n",
                            "        vertical-align: top;\n",
                            "    }\n",
                            "\n",
                            "    .dataframe thead th {\n",
                            "        text-align: right;\n",
                            "    }\n",
                            "</style>\n",
                            "<table border=\"1\" class=\"dataframe\">\n",
                            "  <thead>\n",
                            "    <tr style=\"text-align: right;\">\n",
                            "      <th></th>\n",
                            "      <th>age;\"job\";\"marital\";\"education\";\"default\";\"housing\";\"loan\";\"contact\";\"month\";\"day_of_week\";\"duration\";\"campaign\";\"pdays\";\"previous\";\"poutcome\";\"emp.var.rate\";\"cons.price.idx\";\"cons.conf.idx\";\"euribor3m\";\"nr.employed\";\"y\"</th>\n",
                            "    </tr>\n",
                            "  </thead>\n",
                            "  <tbody>\n",
                            "    <tr>\n",
                            "      <th>0</th>\n",
                            "      <td>56;\"housemaid\";\"married\";\"basic.4y\";\"no\";\"no\";...</td>\n",
                            "    </tr>\n",
                            "    <tr>\n",
                            "      <th>1</th>\n",
                            "      <td>57;\"services\";\"married\";\"high.school\";\"unknown...</td>\n",
                            "    </tr>\n",
                            "    <tr>\n",
                            "      <th>2</th>\n",
                            "      <td>37;\"services\";\"married\";\"high.school\";\"no\";\"ye...</td>\n",
                            "    </tr>\n",
                            "    <tr>\n",
                            "      <th>3</th>\n",
                            "      <td>40;\"admin.\";\"married\";\"basic.6y\";\"no\";\"no\";\"no...</td>\n",
                            "    </tr>\n",
                            "    <tr>\n",
                            "      <th>4</th>\n",
                            "      <td>56;\"services\";\"married\";\"high.school\";\"no\";\"no...</td>\n",
                            "    </tr>\n",
                            "    <tr>\n",
                            "      <th>...</th>\n",
                            "      <td>...</td>\n",
                            "    </tr>\n",
                            "    <tr>\n",
                            "      <th>41183</th>\n",
                            "      <td>73;\"retired\";\"married\";\"professional.course\";\"...</td>\n",
                            "    </tr>\n",
                            "    <tr>\n",
                            "      <th>41184</th>\n",
                            "      <td>46;\"blue-collar\";\"married\";\"professional.cours...</td>\n",
                            "    </tr>\n",
                            "    <tr>\n",
                            "      <th>41185</th>\n",
                            "      <td>56;\"retired\";\"married\";\"university.degree\";\"no...</td>\n",
                            "    </tr>\n",
                            "    <tr>\n",
                            "      <th>41186</th>\n",
                            "      <td>44;\"technician\";\"married\";\"professional.course...</td>\n",
                            "    </tr>\n",
                            "    <tr>\n",
                            "      <th>41187</th>\n",
                            "      <td>74;\"retired\";\"married\";\"professional.course\";\"...</td>\n",
                            "    </tr>\n",
                            "  </tbody>\n",
                            "</table>\n",
                            "<p>41188 rows × 1 columns</p>\n",
                            "</div>"
                        ],
                        "text/plain": [
                            "      age;\"job\";\"marital\";\"education\";\"default\";\"housing\";\"loan\";\"contact\";\"month\";\"day_of_week\";\"duration\";\"campaign\";\"pdays\";\"previous\";\"poutcome\";\"emp.var.rate\";\"cons.price.idx\";\"cons.conf.idx\";\"euribor3m\";\"nr.employed\";\"y\"\n",
                            "0      56;\"housemaid\";\"married\";\"basic.4y\";\"no\";\"no\";...                                                                                                                                                                          \n",
                            "1      57;\"services\";\"married\";\"high.school\";\"unknown...                                                                                                                                                                          \n",
                            "2      37;\"services\";\"married\";\"high.school\";\"no\";\"ye...                                                                                                                                                                          \n",
                            "3      40;\"admin.\";\"married\";\"basic.6y\";\"no\";\"no\";\"no...                                                                                                                                                                          \n",
                            "4      56;\"services\";\"married\";\"high.school\";\"no\";\"no...                                                                                                                                                                          \n",
                            "...                                                  ...                                                                                                                                                                          \n",
                            "41183  73;\"retired\";\"married\";\"professional.course\";\"...                                                                                                                                                                          \n",
                            "41184  46;\"blue-collar\";\"married\";\"professional.cours...                                                                                                                                                                          \n",
                            "41185  56;\"retired\";\"married\";\"university.degree\";\"no...                                                                                                                                                                          \n",
                            "41186  44;\"technician\";\"married\";\"professional.course...                                                                                                                                                                          \n",
                            "41187  74;\"retired\";\"married\";\"professional.course\";\"...                                                                                                                                                                          \n",
                            "\n",
                            "[41188 rows x 1 columns]"
                        ]
                    },
                    "execution_count": 2,
                    "metadata": {},
                    "output_type": "execute_result"
                }
            ],
            "source": [
                "df = pd.read_csv('../data/raw/bank-marketing-campaign-data.csv', sep=';')\n",
                "df"
            ]
        },
        {
            "cell_type": "code",
            "execution_count": null,
            "metadata": {},
            "outputs": [],
            "source": []
        }
    ],
    "metadata": {
        "kernelspec": {
            "display_name": "Python 3.8.13 64-bit ('3.8.13')",
            "language": "python",
            "name": "python3"
        },
        "language_info": {
            "codemirror_mode": {
                "name": "ipython",
                "version": 3
            },
            "file_extension": ".py",
            "mimetype": "text/x-python",
            "name": "python",
            "nbconvert_exporter": "python",
            "pygments_lexer": "ipython3",
            "version": "3.11.5"
        },
        "orig_nbformat": 4,
        "vscode": {
            "interpreter": {
                "hash": "110cc1dee26208153f2972f08a2ad52b6a56238dc66d48e87fb757ef2996db56"
            }
        }
    },
    "nbformat": 4,
    "nbformat_minor": 2
}
